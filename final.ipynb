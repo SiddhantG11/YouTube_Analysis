{
 "cells": [
  {
   "cell_type": "code",
   "execution_count": 1,
   "metadata": {},
   "outputs": [],
   "source": [
    "import warnings\n",
    "warnings.filterwarnings('ignore')\n",
    "\n",
    "import numpy as np # linear algebra\n",
    "import pandas as pd # data processing, CSV file I/O (e.g. pd.read_csv)\n",
    "import html , re \n",
    "import emoji \n",
    "from nltk.sentiment import SentimentIntensityAnalyzer\n",
    "from textblob import TextBlob\n",
    "pd.set_option('display.max_colwidth', None)\n",
    "from transformers import pipeline"
   ]
  },
  {
   "cell_type": "code",
   "execution_count": 2,
   "metadata": {},
   "outputs": [],
   "source": [
    "df = pd.read_csv(\"sentiment.csv\")"
   ]
  },
  {
   "cell_type": "code",
   "execution_count": 4,
   "metadata": {},
   "outputs": [
    {
     "data": {
      "text/plain": [
       "(16610, 5)"
      ]
     },
     "execution_count": 4,
     "metadata": {},
     "output_type": "execute_result"
    }
   ],
   "source": [
    "df.shape"
   ]
  },
  {
   "cell_type": "code",
   "execution_count": 5,
   "metadata": {},
   "outputs": [
    {
     "data": {
      "text/plain": [
       "sentiment\n",
       "positive    7688\n",
       "neutral     6382\n",
       "negative    2540\n",
       "Name: count, dtype: int64"
      ]
     },
     "execution_count": 5,
     "metadata": {},
     "output_type": "execute_result"
    }
   ],
   "source": [
    "df['sentiment'].value_counts()"
   ]
  },
  {
   "cell_type": "code",
   "execution_count": 9,
   "metadata": {},
   "outputs": [
    {
     "data": {
      "text/html": [
       "<div>\n",
       "<style scoped>\n",
       "    .dataframe tbody tr th:only-of-type {\n",
       "        vertical-align: middle;\n",
       "    }\n",
       "\n",
       "    .dataframe tbody tr th {\n",
       "        vertical-align: top;\n",
       "    }\n",
       "\n",
       "    .dataframe thead th {\n",
       "        text-align: right;\n",
       "    }\n",
       "</style>\n",
       "<table border=\"1\" class=\"dataframe\">\n",
       "  <thead>\n",
       "    <tr style=\"text-align: right;\">\n",
       "      <th></th>\n",
       "      <th>video_id</th>\n",
       "      <th>title</th>\n",
       "      <th>split_comments</th>\n",
       "      <th>num_tokens</th>\n",
       "      <th>sentiment</th>\n",
       "    </tr>\n",
       "  </thead>\n",
       "  <tbody>\n",
       "    <tr>\n",
       "      <th>16579</th>\n",
       "      <td>3bamBYQS8io</td>\n",
       "      <td>5 Small Changes to Supercharge Your Focus</td>\n",
       "      <td>and still nothing seems to work for me because of my adhd :( it always works in the first run but every system fails me after a small amount of time.the only thing that worked for me the best (but still not perfectly) is multitasking. as switching from tasks to tasks keeps me focused and in the flow but i often get distrected in more meaningless tasks than the harder ones.i would really love to see a video how to be still efficient with multitasking! :red_heart:you might not be neurodiverse but as somone who has studied medicine might understand it somehow how its like for our brains :grinning_face_with_sweat:</td>\n",
       "      <td>139</td>\n",
       "      <td>negative</td>\n",
       "    </tr>\n",
       "    <tr>\n",
       "      <th>16581</th>\n",
       "      <td>3bamBYQS8io</td>\n",
       "      <td>5 Small Changes to Supercharge Your Focus</td>\n",
       "      <td>damn ali, what's that wallpaper at 7:42?</td>\n",
       "      <td>13</td>\n",
       "      <td>negative</td>\n",
       "    </tr>\n",
       "    <tr>\n",
       "      <th>16593</th>\n",
       "      <td>3bamBYQS8io</td>\n",
       "      <td>5 Small Changes to Supercharge Your Focus</td>\n",
       "      <td>i don't know why, but when i see your new video i feel guilty that i'm not doing anything useful and i close youtube:melting_face: i think i'll have to put your picture on my phone's wallpaper and then i won't use it as much.</td>\n",
       "      <td>57</td>\n",
       "      <td>negative</td>\n",
       "    </tr>\n",
       "    <tr>\n",
       "      <th>16594</th>\n",
       "      <td>3bamBYQS8io</td>\n",
       "      <td>5 Small Changes to Supercharge Your Focus</td>\n",
       "      <td>only me who always like other comments? but mine :crying_face::crying_face: no like</td>\n",
       "      <td>23</td>\n",
       "      <td>negative</td>\n",
       "    </tr>\n",
       "    <tr>\n",
       "      <th>16609</th>\n",
       "      <td>3bamBYQS8io</td>\n",
       "      <td>5 Small Changes to Supercharge Your Focus</td>\n",
       "      <td>bad thumbnail tbh</td>\n",
       "      <td>4</td>\n",
       "      <td>negative</td>\n",
       "    </tr>\n",
       "  </tbody>\n",
       "</table>\n",
       "</div>"
      ],
      "text/plain": [
       "          video_id                                      title  \\\n",
       "16579  3bamBYQS8io  5 Small Changes to Supercharge Your Focus   \n",
       "16581  3bamBYQS8io  5 Small Changes to Supercharge Your Focus   \n",
       "16593  3bamBYQS8io  5 Small Changes to Supercharge Your Focus   \n",
       "16594  3bamBYQS8io  5 Small Changes to Supercharge Your Focus   \n",
       "16609  3bamBYQS8io  5 Small Changes to Supercharge Your Focus   \n",
       "\n",
       "                                                                                                                                                                                                                                                                                                                                                                                                                                                                                                                                                                                                                                  split_comments  \\\n",
       "16579  and still nothing seems to work for me because of my adhd :( it always works in the first run but every system fails me after a small amount of time.the only thing that worked for me the best (but still not perfectly) is multitasking. as switching from tasks to tasks keeps me focused and in the flow but i often get distrected in more meaningless tasks than the harder ones.i would really love to see a video how to be still efficient with multitasking! :red_heart:you might not be neurodiverse but as somone who has studied medicine might understand it somehow how its like for our brains :grinning_face_with_sweat:   \n",
       "16581                                                                                                                                                                                                                                                                                                                                                                                                                                                                                                                                                                                                   damn ali, what's that wallpaper at 7:42?   \n",
       "16593                                                                                                                                                                                                                                                                                                                                                                                                          i don't know why, but when i see your new video i feel guilty that i'm not doing anything useful and i close youtube:melting_face: i think i'll have to put your picture on my phone's wallpaper and then i won't use it as much.   \n",
       "16594                                                                                                                                                                                                                                                                                                                                                                                                                                                                                                                                                        only me who always like other comments? but mine :crying_face::crying_face: no like   \n",
       "16609                                                                                                                                                                                                                                                                                                                                                                                                                                                                                                                                                                                                                          bad thumbnail tbh   \n",
       "\n",
       "       num_tokens sentiment  \n",
       "16579         139  negative  \n",
       "16581          13  negative  \n",
       "16593          57  negative  \n",
       "16594          23  negative  \n",
       "16609           4  negative  "
      ]
     },
     "execution_count": 9,
     "metadata": {},
     "output_type": "execute_result"
    }
   ],
   "source": [
    "df[df['sentiment'] == 'negative'].tail()"
   ]
  },
  {
   "cell_type": "code",
   "execution_count": null,
   "metadata": {},
   "outputs": [],
   "source": []
  }
 ],
 "metadata": {
  "kernelspec": {
   "display_name": "ai",
   "language": "python",
   "name": "python3"
  },
  "language_info": {
   "codemirror_mode": {
    "name": "ipython",
    "version": 3
   },
   "file_extension": ".py",
   "mimetype": "text/x-python",
   "name": "python",
   "nbconvert_exporter": "python",
   "pygments_lexer": "ipython3",
   "version": "3.11.8"
  }
 },
 "nbformat": 4,
 "nbformat_minor": 2
}
