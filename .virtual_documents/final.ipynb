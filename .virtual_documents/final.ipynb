import warnings
warnings.filterwarnings('ignore')

import numpy as np # linear algebra
import pandas as pd # data processing, CSV file I/O (e.g. pd.read_csv)
import html , re 
import emoji 
from nltk.sentiment import SentimentIntensityAnalyzer
from textblob import TextBlob
pd.set_option('display.max_colwidth', None)
from transformers import pipeline


df = pd.read_csv("sentiment.csv")


df.shape


df['sentiment'].value_counts()


df[df['sentiment'] == 'negative'].tail()



