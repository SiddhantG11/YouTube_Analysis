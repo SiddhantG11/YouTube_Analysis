{
 "cells": [
  {
   "cell_type": "code",
   "execution_count": 90,
   "id": "ce95ef5a-6745-4666-82a9-540b323cda1d",
   "metadata": {},
   "outputs": [],
   "source": [
    "import pandas as pd\n",
    "import ast"
   ]
  },
  {
   "cell_type": "code",
   "execution_count": 2,
   "id": "bcff6cb9-6b29-4c67-a3d6-d22a55d1fc5b",
   "metadata": {},
   "outputs": [],
   "source": [
    "data1 = pd.read_csv('sentiment.csv')\n",
    "data2 = pd.read_csv('results.csv')"
   ]
  },
  {
   "cell_type": "code",
   "execution_count": 3,
   "id": "8c367234-479a-462a-8218-bbd947e284e8",
   "metadata": {},
   "outputs": [
    {
     "data": {
      "text/html": [
       "<div>\n",
       "<style scoped>\n",
       "    .dataframe tbody tr th:only-of-type {\n",
       "        vertical-align: middle;\n",
       "    }\n",
       "\n",
       "    .dataframe tbody tr th {\n",
       "        vertical-align: top;\n",
       "    }\n",
       "\n",
       "    .dataframe thead th {\n",
       "        text-align: right;\n",
       "    }\n",
       "</style>\n",
       "<table border=\"1\" class=\"dataframe\">\n",
       "  <thead>\n",
       "    <tr style=\"text-align: right;\">\n",
       "      <th></th>\n",
       "      <th>video_id</th>\n",
       "      <th>title</th>\n",
       "      <th>split_comments</th>\n",
       "      <th>num_tokens</th>\n",
       "      <th>sentiment</th>\n",
       "    </tr>\n",
       "  </thead>\n",
       "  <tbody>\n",
       "    <tr>\n",
       "      <th>0</th>\n",
       "      <td>T6hmdrsLQj8</td>\n",
       "      <td>How to Build Your Ultimate Productivity System</td>\n",
       "      <td>how to remember the system then?</td>\n",
       "      <td>7</td>\n",
       "      <td>neutral</td>\n",
       "    </tr>\n",
       "    <tr>\n",
       "      <th>1</th>\n",
       "      <td>T6hmdrsLQj8</td>\n",
       "      <td>How to Build Your Ultimate Productivity System</td>\n",
       "      <td>15/3/24, x2.</td>\n",
       "      <td>9</td>\n",
       "      <td>neutral</td>\n",
       "    </tr>\n",
       "    <tr>\n",
       "      <th>2</th>\n",
       "      <td>T6hmdrsLQj8</td>\n",
       "      <td>How to Build Your Ultimate Productivity System</td>\n",
       "      <td>thanks brother it's helping video :red_heart::...</td>\n",
       "      <td>16</td>\n",
       "      <td>positive</td>\n",
       "    </tr>\n",
       "    <tr>\n",
       "      <th>3</th>\n",
       "      <td>T6hmdrsLQj8</td>\n",
       "      <td>How to Build Your Ultimate Productivity System</td>\n",
       "      <td>you should try breathing and just being in the...</td>\n",
       "      <td>28</td>\n",
       "      <td>neutral</td>\n",
       "    </tr>\n",
       "    <tr>\n",
       "      <th>4</th>\n",
       "      <td>T6hmdrsLQj8</td>\n",
       "      <td>How to Build Your Ultimate Productivity System</td>\n",
       "      <td>took me out when he said “my brain is a dumass...</td>\n",
       "      <td>52</td>\n",
       "      <td>negative</td>\n",
       "    </tr>\n",
       "  </tbody>\n",
       "</table>\n",
       "</div>"
      ],
      "text/plain": [
       "      video_id                                           title  \\\n",
       "0  T6hmdrsLQj8  How to Build Your Ultimate Productivity System   \n",
       "1  T6hmdrsLQj8  How to Build Your Ultimate Productivity System   \n",
       "2  T6hmdrsLQj8  How to Build Your Ultimate Productivity System   \n",
       "3  T6hmdrsLQj8  How to Build Your Ultimate Productivity System   \n",
       "4  T6hmdrsLQj8  How to Build Your Ultimate Productivity System   \n",
       "\n",
       "                                      split_comments  num_tokens sentiment  \n",
       "0                   how to remember the system then?           7   neutral  \n",
       "1                                       15/3/24, x2.           9   neutral  \n",
       "2  thanks brother it's helping video :red_heart::...          16  positive  \n",
       "3  you should try breathing and just being in the...          28   neutral  \n",
       "4  took me out when he said “my brain is a dumass...          52  negative  "
      ]
     },
     "execution_count": 3,
     "metadata": {},
     "output_type": "execute_result"
    }
   ],
   "source": [
    "data1.head()"
   ]
  },
  {
   "cell_type": "code",
   "execution_count": 4,
   "id": "e145dd55-cd1a-4ab3-b268-6c9578e4708d",
   "metadata": {},
   "outputs": [
    {
     "data": {
      "text/html": [
       "<div>\n",
       "<style scoped>\n",
       "    .dataframe tbody tr th:only-of-type {\n",
       "        vertical-align: middle;\n",
       "    }\n",
       "\n",
       "    .dataframe tbody tr th {\n",
       "        vertical-align: top;\n",
       "    }\n",
       "\n",
       "    .dataframe thead th {\n",
       "        text-align: right;\n",
       "    }\n",
       "</style>\n",
       "<table border=\"1\" class=\"dataframe\">\n",
       "  <thead>\n",
       "    <tr style=\"text-align: right;\">\n",
       "      <th></th>\n",
       "      <th>sequence</th>\n",
       "      <th>labels</th>\n",
       "      <th>scores</th>\n",
       "    </tr>\n",
       "  </thead>\n",
       "  <tbody>\n",
       "    <tr>\n",
       "      <th>0</th>\n",
       "      <td>how to remember the system then?</td>\n",
       "      <td>['aspirations', 'frustrations', 'fears']</td>\n",
       "      <td>[0.45186224579811096, 0.34655919671058655, 0.2...</td>\n",
       "    </tr>\n",
       "    <tr>\n",
       "      <th>1</th>\n",
       "      <td>15/3/24, x2.</td>\n",
       "      <td>['aspirations', 'fears', 'frustrations']</td>\n",
       "      <td>[0.36963728070259094, 0.3612099289894104, 0.26...</td>\n",
       "    </tr>\n",
       "    <tr>\n",
       "      <th>2</th>\n",
       "      <td>thanks brother it's helping video :red_heart::...</td>\n",
       "      <td>['aspirations', 'frustrations', 'fears']</td>\n",
       "      <td>[0.6822587251663208, 0.17578278481960297, 0.14...</td>\n",
       "    </tr>\n",
       "    <tr>\n",
       "      <th>3</th>\n",
       "      <td>you should try breathing and just being in the...</td>\n",
       "      <td>['frustrations', 'aspirations', 'fears']</td>\n",
       "      <td>[0.4940927028656006, 0.31500494480133057, 0.19...</td>\n",
       "    </tr>\n",
       "    <tr>\n",
       "      <th>4</th>\n",
       "      <td>took me out when he said “my brain is a dumass...</td>\n",
       "      <td>['frustrations', 'fears', 'aspirations']</td>\n",
       "      <td>[0.8241838812828064, 0.0920601338148117, 0.083...</td>\n",
       "    </tr>\n",
       "  </tbody>\n",
       "</table>\n",
       "</div>"
      ],
      "text/plain": [
       "                                            sequence  \\\n",
       "0                   how to remember the system then?   \n",
       "1                                       15/3/24, x2.   \n",
       "2  thanks brother it's helping video :red_heart::...   \n",
       "3  you should try breathing and just being in the...   \n",
       "4  took me out when he said “my brain is a dumass...   \n",
       "\n",
       "                                     labels  \\\n",
       "0  ['aspirations', 'frustrations', 'fears']   \n",
       "1  ['aspirations', 'fears', 'frustrations']   \n",
       "2  ['aspirations', 'frustrations', 'fears']   \n",
       "3  ['frustrations', 'aspirations', 'fears']   \n",
       "4  ['frustrations', 'fears', 'aspirations']   \n",
       "\n",
       "                                              scores  \n",
       "0  [0.45186224579811096, 0.34655919671058655, 0.2...  \n",
       "1  [0.36963728070259094, 0.3612099289894104, 0.26...  \n",
       "2  [0.6822587251663208, 0.17578278481960297, 0.14...  \n",
       "3  [0.4940927028656006, 0.31500494480133057, 0.19...  \n",
       "4  [0.8241838812828064, 0.0920601338148117, 0.083...  "
      ]
     },
     "execution_count": 4,
     "metadata": {},
     "output_type": "execute_result"
    }
   ],
   "source": [
    "data2.head()"
   ]
  },
  {
   "cell_type": "code",
   "execution_count": 5,
   "id": "7c77fd00-e324-45ff-940d-364d584ea330",
   "metadata": {},
   "outputs": [],
   "source": [
    "data2.rename(columns={\"sequence\":\"split_comments\"},inplace=True)\n",
    "# data2"
   ]
  },
  {
   "cell_type": "code",
   "execution_count": 6,
   "id": "b1bc12e8-a20b-484b-bdcf-1e3f57192f20",
   "metadata": {},
   "outputs": [
    {
     "data": {
      "text/html": [
       "<div>\n",
       "<style scoped>\n",
       "    .dataframe tbody tr th:only-of-type {\n",
       "        vertical-align: middle;\n",
       "    }\n",
       "\n",
       "    .dataframe tbody tr th {\n",
       "        vertical-align: top;\n",
       "    }\n",
       "\n",
       "    .dataframe thead th {\n",
       "        text-align: right;\n",
       "    }\n",
       "</style>\n",
       "<table border=\"1\" class=\"dataframe\">\n",
       "  <thead>\n",
       "    <tr style=\"text-align: right;\">\n",
       "      <th></th>\n",
       "      <th>split_comments</th>\n",
       "      <th>labels</th>\n",
       "      <th>scores</th>\n",
       "    </tr>\n",
       "  </thead>\n",
       "  <tbody>\n",
       "    <tr>\n",
       "      <th>0</th>\n",
       "      <td>how to remember the system then?</td>\n",
       "      <td>['aspirations', 'frustrations', 'fears']</td>\n",
       "      <td>[0.45186224579811096, 0.34655919671058655, 0.2...</td>\n",
       "    </tr>\n",
       "    <tr>\n",
       "      <th>1</th>\n",
       "      <td>15/3/24, x2.</td>\n",
       "      <td>['aspirations', 'fears', 'frustrations']</td>\n",
       "      <td>[0.36963728070259094, 0.3612099289894104, 0.26...</td>\n",
       "    </tr>\n",
       "    <tr>\n",
       "      <th>2</th>\n",
       "      <td>thanks brother it's helping video :red_heart::...</td>\n",
       "      <td>['aspirations', 'frustrations', 'fears']</td>\n",
       "      <td>[0.6822587251663208, 0.17578278481960297, 0.14...</td>\n",
       "    </tr>\n",
       "    <tr>\n",
       "      <th>3</th>\n",
       "      <td>you should try breathing and just being in the...</td>\n",
       "      <td>['frustrations', 'aspirations', 'fears']</td>\n",
       "      <td>[0.4940927028656006, 0.31500494480133057, 0.19...</td>\n",
       "    </tr>\n",
       "    <tr>\n",
       "      <th>4</th>\n",
       "      <td>took me out when he said “my brain is a dumass...</td>\n",
       "      <td>['frustrations', 'fears', 'aspirations']</td>\n",
       "      <td>[0.8241838812828064, 0.0920601338148117, 0.083...</td>\n",
       "    </tr>\n",
       "    <tr>\n",
       "      <th>...</th>\n",
       "      <td>...</td>\n",
       "      <td>...</td>\n",
       "      <td>...</td>\n",
       "    </tr>\n",
       "    <tr>\n",
       "      <th>16603</th>\n",
       "      <td>please also upload hindi video</td>\n",
       "      <td>['fears', 'aspirations', 'frustrations']</td>\n",
       "      <td>[0.3803737759590149, 0.32163533568382263, 0.29...</td>\n",
       "    </tr>\n",
       "    <tr>\n",
       "      <th>16604</th>\n",
       "      <td>im 3rd</td>\n",
       "      <td>['aspirations', 'frustrations', 'fears']</td>\n",
       "      <td>[0.6356985569000244, 0.18799357116222382, 0.17...</td>\n",
       "    </tr>\n",
       "    <tr>\n",
       "      <th>16605</th>\n",
       "      <td>what if he pinned my cmt?:grinning_face_with_s...</td>\n",
       "      <td>['fears', 'frustrations', 'aspirations']</td>\n",
       "      <td>[0.5885409116744995, 0.3420863449573517, 0.069...</td>\n",
       "    </tr>\n",
       "    <tr>\n",
       "      <th>16606</th>\n",
       "      <td>first to comment</td>\n",
       "      <td>['aspirations', 'fears', 'frustrations']</td>\n",
       "      <td>[0.4376871585845947, 0.28964871168136597, 0.27...</td>\n",
       "    </tr>\n",
       "    <tr>\n",
       "      <th>16607</th>\n",
       "      <td>bad thumbnail tbh</td>\n",
       "      <td>['frustrations', 'fears', 'aspirations']</td>\n",
       "      <td>[0.6011629104614258, 0.3157581388950348, 0.083...</td>\n",
       "    </tr>\n",
       "  </tbody>\n",
       "</table>\n",
       "<p>16608 rows × 3 columns</p>\n",
       "</div>"
      ],
      "text/plain": [
       "                                          split_comments  \\\n",
       "0                       how to remember the system then?   \n",
       "1                                           15/3/24, x2.   \n",
       "2      thanks brother it's helping video :red_heart::...   \n",
       "3      you should try breathing and just being in the...   \n",
       "4      took me out when he said “my brain is a dumass...   \n",
       "...                                                  ...   \n",
       "16603                     please also upload hindi video   \n",
       "16604                                             im 3rd   \n",
       "16605  what if he pinned my cmt?:grinning_face_with_s...   \n",
       "16606                                   first to comment   \n",
       "16607                                  bad thumbnail tbh   \n",
       "\n",
       "                                         labels  \\\n",
       "0      ['aspirations', 'frustrations', 'fears']   \n",
       "1      ['aspirations', 'fears', 'frustrations']   \n",
       "2      ['aspirations', 'frustrations', 'fears']   \n",
       "3      ['frustrations', 'aspirations', 'fears']   \n",
       "4      ['frustrations', 'fears', 'aspirations']   \n",
       "...                                         ...   \n",
       "16603  ['fears', 'aspirations', 'frustrations']   \n",
       "16604  ['aspirations', 'frustrations', 'fears']   \n",
       "16605  ['fears', 'frustrations', 'aspirations']   \n",
       "16606  ['aspirations', 'fears', 'frustrations']   \n",
       "16607  ['frustrations', 'fears', 'aspirations']   \n",
       "\n",
       "                                                  scores  \n",
       "0      [0.45186224579811096, 0.34655919671058655, 0.2...  \n",
       "1      [0.36963728070259094, 0.3612099289894104, 0.26...  \n",
       "2      [0.6822587251663208, 0.17578278481960297, 0.14...  \n",
       "3      [0.4940927028656006, 0.31500494480133057, 0.19...  \n",
       "4      [0.8241838812828064, 0.0920601338148117, 0.083...  \n",
       "...                                                  ...  \n",
       "16603  [0.3803737759590149, 0.32163533568382263, 0.29...  \n",
       "16604  [0.6356985569000244, 0.18799357116222382, 0.17...  \n",
       "16605  [0.5885409116744995, 0.3420863449573517, 0.069...  \n",
       "16606  [0.4376871585845947, 0.28964871168136597, 0.27...  \n",
       "16607  [0.6011629104614258, 0.3157581388950348, 0.083...  \n",
       "\n",
       "[16608 rows x 3 columns]"
      ]
     },
     "execution_count": 6,
     "metadata": {},
     "output_type": "execute_result"
    }
   ],
   "source": [
    "data2"
   ]
  },
  {
   "cell_type": "code",
   "execution_count": 8,
   "id": "8b4da732-2b27-4442-a843-c2422769a59e",
   "metadata": {},
   "outputs": [
    {
     "name": "stdout",
     "output_type": "stream",
     "text": [
      "data1 video_id          0\n",
      "title             0\n",
      "split_comments    2\n",
      "num_tokens        0\n",
      "sentiment         0\n",
      "dtype: int64\n",
      "data2 split_comments    0\n",
      "labels            0\n",
      "scores            0\n",
      "dtype: int64\n"
     ]
    }
   ],
   "source": [
    "print(f\"data1 {data1.isna().sum()}\")\n",
    "print(f\"data2 {data2.isna().sum()}\")"
   ]
  },
  {
   "cell_type": "code",
   "execution_count": 9,
   "id": "9b154922-5e1d-4b0f-b892-aa362481a43e",
   "metadata": {},
   "outputs": [
    {
     "data": {
      "text/html": [
       "<div>\n",
       "<style scoped>\n",
       "    .dataframe tbody tr th:only-of-type {\n",
       "        vertical-align: middle;\n",
       "    }\n",
       "\n",
       "    .dataframe tbody tr th {\n",
       "        vertical-align: top;\n",
       "    }\n",
       "\n",
       "    .dataframe thead th {\n",
       "        text-align: right;\n",
       "    }\n",
       "</style>\n",
       "<table border=\"1\" class=\"dataframe\">\n",
       "  <thead>\n",
       "    <tr style=\"text-align: right;\">\n",
       "      <th></th>\n",
       "      <th>video_id</th>\n",
       "      <th>title</th>\n",
       "      <th>split_comments</th>\n",
       "      <th>num_tokens</th>\n",
       "      <th>sentiment</th>\n",
       "    </tr>\n",
       "  </thead>\n",
       "  <tbody>\n",
       "    <tr>\n",
       "      <th>0</th>\n",
       "      <td>T6hmdrsLQj8</td>\n",
       "      <td>How to Build Your Ultimate Productivity System</td>\n",
       "      <td>how to remember the system then?</td>\n",
       "      <td>7</td>\n",
       "      <td>neutral</td>\n",
       "    </tr>\n",
       "    <tr>\n",
       "      <th>1</th>\n",
       "      <td>T6hmdrsLQj8</td>\n",
       "      <td>How to Build Your Ultimate Productivity System</td>\n",
       "      <td>15/3/24, x2.</td>\n",
       "      <td>9</td>\n",
       "      <td>neutral</td>\n",
       "    </tr>\n",
       "    <tr>\n",
       "      <th>2</th>\n",
       "      <td>T6hmdrsLQj8</td>\n",
       "      <td>How to Build Your Ultimate Productivity System</td>\n",
       "      <td>thanks brother it's helping video :red_heart::...</td>\n",
       "      <td>16</td>\n",
       "      <td>positive</td>\n",
       "    </tr>\n",
       "    <tr>\n",
       "      <th>3</th>\n",
       "      <td>T6hmdrsLQj8</td>\n",
       "      <td>How to Build Your Ultimate Productivity System</td>\n",
       "      <td>you should try breathing and just being in the...</td>\n",
       "      <td>28</td>\n",
       "      <td>neutral</td>\n",
       "    </tr>\n",
       "    <tr>\n",
       "      <th>4</th>\n",
       "      <td>T6hmdrsLQj8</td>\n",
       "      <td>How to Build Your Ultimate Productivity System</td>\n",
       "      <td>took me out when he said “my brain is a dumass...</td>\n",
       "      <td>52</td>\n",
       "      <td>negative</td>\n",
       "    </tr>\n",
       "  </tbody>\n",
       "</table>\n",
       "</div>"
      ],
      "text/plain": [
       "      video_id                                           title  \\\n",
       "0  T6hmdrsLQj8  How to Build Your Ultimate Productivity System   \n",
       "1  T6hmdrsLQj8  How to Build Your Ultimate Productivity System   \n",
       "2  T6hmdrsLQj8  How to Build Your Ultimate Productivity System   \n",
       "3  T6hmdrsLQj8  How to Build Your Ultimate Productivity System   \n",
       "4  T6hmdrsLQj8  How to Build Your Ultimate Productivity System   \n",
       "\n",
       "                                      split_comments  num_tokens sentiment  \n",
       "0                   how to remember the system then?           7   neutral  \n",
       "1                                       15/3/24, x2.           9   neutral  \n",
       "2  thanks brother it's helping video :red_heart::...          16  positive  \n",
       "3  you should try breathing and just being in the...          28   neutral  \n",
       "4  took me out when he said “my brain is a dumass...          52  negative  "
      ]
     },
     "execution_count": 9,
     "metadata": {},
     "output_type": "execute_result"
    }
   ],
   "source": [
    "data1.head()"
   ]
  },
  {
   "cell_type": "code",
   "execution_count": 10,
   "id": "d15502cf-b40e-4212-a189-58b03c7ede2f",
   "metadata": {},
   "outputs": [
    {
     "data": {
      "text/html": [
       "<div>\n",
       "<style scoped>\n",
       "    .dataframe tbody tr th:only-of-type {\n",
       "        vertical-align: middle;\n",
       "    }\n",
       "\n",
       "    .dataframe tbody tr th {\n",
       "        vertical-align: top;\n",
       "    }\n",
       "\n",
       "    .dataframe thead th {\n",
       "        text-align: right;\n",
       "    }\n",
       "</style>\n",
       "<table border=\"1\" class=\"dataframe\">\n",
       "  <thead>\n",
       "    <tr style=\"text-align: right;\">\n",
       "      <th></th>\n",
       "      <th>split_comments</th>\n",
       "      <th>labels</th>\n",
       "      <th>scores</th>\n",
       "    </tr>\n",
       "  </thead>\n",
       "  <tbody>\n",
       "    <tr>\n",
       "      <th>0</th>\n",
       "      <td>how to remember the system then?</td>\n",
       "      <td>['aspirations', 'frustrations', 'fears']</td>\n",
       "      <td>[0.45186224579811096, 0.34655919671058655, 0.2...</td>\n",
       "    </tr>\n",
       "    <tr>\n",
       "      <th>1</th>\n",
       "      <td>15/3/24, x2.</td>\n",
       "      <td>['aspirations', 'fears', 'frustrations']</td>\n",
       "      <td>[0.36963728070259094, 0.3612099289894104, 0.26...</td>\n",
       "    </tr>\n",
       "    <tr>\n",
       "      <th>2</th>\n",
       "      <td>thanks brother it's helping video :red_heart::...</td>\n",
       "      <td>['aspirations', 'frustrations', 'fears']</td>\n",
       "      <td>[0.6822587251663208, 0.17578278481960297, 0.14...</td>\n",
       "    </tr>\n",
       "    <tr>\n",
       "      <th>3</th>\n",
       "      <td>you should try breathing and just being in the...</td>\n",
       "      <td>['frustrations', 'aspirations', 'fears']</td>\n",
       "      <td>[0.4940927028656006, 0.31500494480133057, 0.19...</td>\n",
       "    </tr>\n",
       "    <tr>\n",
       "      <th>4</th>\n",
       "      <td>took me out when he said “my brain is a dumass...</td>\n",
       "      <td>['frustrations', 'fears', 'aspirations']</td>\n",
       "      <td>[0.8241838812828064, 0.0920601338148117, 0.083...</td>\n",
       "    </tr>\n",
       "  </tbody>\n",
       "</table>\n",
       "</div>"
      ],
      "text/plain": [
       "                                      split_comments  \\\n",
       "0                   how to remember the system then?   \n",
       "1                                       15/3/24, x2.   \n",
       "2  thanks brother it's helping video :red_heart::...   \n",
       "3  you should try breathing and just being in the...   \n",
       "4  took me out when he said “my brain is a dumass...   \n",
       "\n",
       "                                     labels  \\\n",
       "0  ['aspirations', 'frustrations', 'fears']   \n",
       "1  ['aspirations', 'fears', 'frustrations']   \n",
       "2  ['aspirations', 'frustrations', 'fears']   \n",
       "3  ['frustrations', 'aspirations', 'fears']   \n",
       "4  ['frustrations', 'fears', 'aspirations']   \n",
       "\n",
       "                                              scores  \n",
       "0  [0.45186224579811096, 0.34655919671058655, 0.2...  \n",
       "1  [0.36963728070259094, 0.3612099289894104, 0.26...  \n",
       "2  [0.6822587251663208, 0.17578278481960297, 0.14...  \n",
       "3  [0.4940927028656006, 0.31500494480133057, 0.19...  \n",
       "4  [0.8241838812828064, 0.0920601338148117, 0.083...  "
      ]
     },
     "execution_count": 10,
     "metadata": {},
     "output_type": "execute_result"
    }
   ],
   "source": [
    "data2.head()"
   ]
  },
  {
   "cell_type": "code",
   "execution_count": 11,
   "id": "0c3f38b1-842f-4ccb-ab9b-652f1983079b",
   "metadata": {},
   "outputs": [
    {
     "data": {
      "text/plain": [
       "0        True\n",
       "1        True\n",
       "2        True\n",
       "3        True\n",
       "4        True\n",
       "        ...  \n",
       "9995    False\n",
       "9996    False\n",
       "9997    False\n",
       "9998    False\n",
       "9999    False\n",
       "Name: split_comments, Length: 10000, dtype: bool"
      ]
     },
     "execution_count": 11,
     "metadata": {},
     "output_type": "execute_result"
    }
   ],
   "source": [
    "data1['split_comments'].iloc[0:10000] == data2['split_comments'].iloc[0:10000]"
   ]
  },
  {
   "cell_type": "code",
   "execution_count": 12,
   "id": "21547e8d-5157-44c8-82f7-2853f403a766",
   "metadata": {},
   "outputs": [
    {
     "data": {
      "text/plain": [
       "'bro like reading books a lot which is not my strong point:grinning_face_with_sweat: but i usually follow all the methods for productivity which i researched myself.'"
      ]
     },
     "execution_count": 12,
     "metadata": {},
     "output_type": "execute_result"
    }
   ],
   "source": [
    "data1['split_comments'].iloc[9996]"
   ]
  },
  {
   "cell_type": "code",
   "execution_count": 13,
   "id": "c85c33a6-4e3b-4429-905c-b0ac0c34c592",
   "metadata": {},
   "outputs": [
    {
     "data": {
      "text/plain": [
       "'imaginá que prestas un libro y te lo devuelven con los títulos todos marcados como el del video...'"
      ]
     },
     "execution_count": 13,
     "metadata": {},
     "output_type": "execute_result"
    }
   ],
   "source": [
    "data2['split_comments'].iloc[9996]"
   ]
  },
  {
   "cell_type": "code",
   "execution_count": 14,
   "id": "f83e2d7b-1b63-40a9-a907-5a3e99623464",
   "metadata": {},
   "outputs": [],
   "source": [
    "# mismatch_index = (data1['split_comments'] != data2['split_comments']).argmax()\n",
    "min_length = min(len(data1), len(data2))\n",
    "mismatch_index = (data1['split_comments'].iloc[:min_length] != data2['split_comments'].iloc[:min_length]).argmax()"
   ]
  },
  {
   "cell_type": "code",
   "execution_count": 15,
   "id": "74084212-1773-4a25-869a-0b5d71f73620",
   "metadata": {},
   "outputs": [
    {
     "data": {
      "text/plain": [
       "3608"
      ]
     },
     "execution_count": 15,
     "metadata": {},
     "output_type": "execute_result"
    }
   ],
   "source": [
    "mismatch_index"
   ]
  },
  {
   "cell_type": "code",
   "execution_count": 17,
   "id": "e798d81a-d859-4dce-9043-a1cd52e6afb7",
   "metadata": {},
   "outputs": [
    {
     "data": {
      "text/plain": [
       "2"
      ]
     },
     "execution_count": 17,
     "metadata": {},
     "output_type": "execute_result"
    }
   ],
   "source": [
    "data1['split_comments'].isnull().sum()"
   ]
  },
  {
   "cell_type": "code",
   "execution_count": 18,
   "id": "dad05512-24e7-4efe-ba5a-59b7e230af83",
   "metadata": {},
   "outputs": [
    {
     "data": {
      "text/plain": [
       "0"
      ]
     },
     "execution_count": 18,
     "metadata": {},
     "output_type": "execute_result"
    }
   ],
   "source": [
    "data2['split_comments'].isnull().sum()"
   ]
  },
  {
   "cell_type": "code",
   "execution_count": 19,
   "id": "0e040721-d7a6-4a0b-a3f7-ba0b19f4a301",
   "metadata": {},
   "outputs": [
    {
     "data": {
      "text/plain": [
       "(16610, 5)"
      ]
     },
     "execution_count": 19,
     "metadata": {},
     "output_type": "execute_result"
    }
   ],
   "source": [
    "data1.shape"
   ]
  },
  {
   "cell_type": "code",
   "execution_count": 20,
   "id": "a4c2e9cf",
   "metadata": {},
   "outputs": [
    {
     "data": {
      "text/plain": [
       "(16608, 3)"
      ]
     },
     "execution_count": 20,
     "metadata": {},
     "output_type": "execute_result"
    }
   ],
   "source": [
    "data2.shape"
   ]
  },
  {
   "cell_type": "code",
   "execution_count": 23,
   "id": "1dafcdb3",
   "metadata": {},
   "outputs": [
    {
     "data": {
      "text/plain": [
       "(16608, 5)"
      ]
     },
     "execution_count": 23,
     "metadata": {},
     "output_type": "execute_result"
    }
   ],
   "source": [
    "data1 = data1.dropna()\n",
    "data1.shape"
   ]
  },
  {
   "cell_type": "markdown",
   "id": "48ff26e5",
   "metadata": {},
   "source": [
    "# Handle Duplicates "
   ]
  },
  {
   "cell_type": "code",
   "execution_count": 49,
   "id": "7d7b16f9",
   "metadata": {},
   "outputs": [
    {
     "data": {
      "text/plain": [
       "False    14926\n",
       "True      1682\n",
       "Name: count, dtype: int64"
      ]
     },
     "execution_count": 49,
     "metadata": {},
     "output_type": "execute_result"
    }
   ],
   "source": [
    "data1.duplicated(subset=['split_comments']).value_counts()"
   ]
  },
  {
   "cell_type": "code",
   "execution_count": 55,
   "id": "23a41da3",
   "metadata": {},
   "outputs": [
    {
     "data": {
      "text/plain": [
       "split_comments\n",
       ":four_leaf_clover:                                               901\n",
       ":shamrock:                                                       229\n",
       ":four_leaf_clover::four_leaf_clover::four_leaf_clover:            37\n",
       "first                                                             32\n",
       "thank you                                                         26\n",
       "                                                                ... \n",
       "thank you so much :red_heart:                                      2\n",
       "good:hundred_points:                                               2\n",
       "how can i get that book plzz ?                                     2\n",
       "4:58                                                               2\n",
       "wish i found you earlier, cause i have trouble with mistake 2      2\n",
       "Name: count, Length: 172, dtype: int64"
      ]
     },
     "execution_count": 55,
     "metadata": {},
     "output_type": "execute_result"
    }
   ],
   "source": [
    "# data1['split_comments'].duplicated()\n",
    "duplicates = data1[data1.duplicated(subset=['split_comments'], keep=False)]\n",
    "duplicates['split_comments'].value_counts()"
   ]
  },
  {
   "cell_type": "code",
   "execution_count": 47,
   "id": "73f0d52a",
   "metadata": {},
   "outputs": [
    {
     "data": {
      "text/html": [
       "<div>\n",
       "<style scoped>\n",
       "    .dataframe tbody tr th:only-of-type {\n",
       "        vertical-align: middle;\n",
       "    }\n",
       "\n",
       "    .dataframe tbody tr th {\n",
       "        vertical-align: top;\n",
       "    }\n",
       "\n",
       "    .dataframe thead th {\n",
       "        text-align: right;\n",
       "    }\n",
       "</style>\n",
       "<table border=\"1\" class=\"dataframe\">\n",
       "  <thead>\n",
       "    <tr style=\"text-align: right;\">\n",
       "      <th></th>\n",
       "      <th>video_id</th>\n",
       "      <th>title</th>\n",
       "      <th>split_comments</th>\n",
       "      <th>num_tokens</th>\n",
       "      <th>sentiment</th>\n",
       "    </tr>\n",
       "  </thead>\n",
       "  <tbody>\n",
       "    <tr>\n",
       "      <th>0</th>\n",
       "      <td>T6hmdrsLQj8</td>\n",
       "      <td>How to Build Your Ultimate Productivity System</td>\n",
       "      <td>how to remember the system then?</td>\n",
       "      <td>7</td>\n",
       "      <td>neutral</td>\n",
       "    </tr>\n",
       "    <tr>\n",
       "      <th>1</th>\n",
       "      <td>T6hmdrsLQj8</td>\n",
       "      <td>How to Build Your Ultimate Productivity System</td>\n",
       "      <td>15/3/24, x2.</td>\n",
       "      <td>9</td>\n",
       "      <td>neutral</td>\n",
       "    </tr>\n",
       "    <tr>\n",
       "      <th>2</th>\n",
       "      <td>T6hmdrsLQj8</td>\n",
       "      <td>How to Build Your Ultimate Productivity System</td>\n",
       "      <td>thanks brother it's helping video :red_heart::...</td>\n",
       "      <td>16</td>\n",
       "      <td>positive</td>\n",
       "    </tr>\n",
       "    <tr>\n",
       "      <th>3</th>\n",
       "      <td>T6hmdrsLQj8</td>\n",
       "      <td>How to Build Your Ultimate Productivity System</td>\n",
       "      <td>you should try breathing and just being in the...</td>\n",
       "      <td>28</td>\n",
       "      <td>neutral</td>\n",
       "    </tr>\n",
       "    <tr>\n",
       "      <th>4</th>\n",
       "      <td>T6hmdrsLQj8</td>\n",
       "      <td>How to Build Your Ultimate Productivity System</td>\n",
       "      <td>took me out when he said “my brain is a dumass...</td>\n",
       "      <td>52</td>\n",
       "      <td>negative</td>\n",
       "    </tr>\n",
       "    <tr>\n",
       "      <th>...</th>\n",
       "      <td>...</td>\n",
       "      <td>...</td>\n",
       "      <td>...</td>\n",
       "      <td>...</td>\n",
       "      <td>...</td>\n",
       "    </tr>\n",
       "    <tr>\n",
       "      <th>16605</th>\n",
       "      <td>3bamBYQS8io</td>\n",
       "      <td>5 Small Changes to Supercharge Your Focus</td>\n",
       "      <td>please also upload hindi video</td>\n",
       "      <td>6</td>\n",
       "      <td>neutral</td>\n",
       "    </tr>\n",
       "    <tr>\n",
       "      <th>16606</th>\n",
       "      <td>3bamBYQS8io</td>\n",
       "      <td>5 Small Changes to Supercharge Your Focus</td>\n",
       "      <td>im 3rd</td>\n",
       "      <td>3</td>\n",
       "      <td>neutral</td>\n",
       "    </tr>\n",
       "    <tr>\n",
       "      <th>16607</th>\n",
       "      <td>3bamBYQS8io</td>\n",
       "      <td>5 Small Changes to Supercharge Your Focus</td>\n",
       "      <td>what if he pinned my cmt?:grinning_face_with_s...</td>\n",
       "      <td>18</td>\n",
       "      <td>neutral</td>\n",
       "    </tr>\n",
       "    <tr>\n",
       "      <th>16608</th>\n",
       "      <td>3bamBYQS8io</td>\n",
       "      <td>5 Small Changes to Supercharge Your Focus</td>\n",
       "      <td>first to comment</td>\n",
       "      <td>3</td>\n",
       "      <td>neutral</td>\n",
       "    </tr>\n",
       "    <tr>\n",
       "      <th>16609</th>\n",
       "      <td>3bamBYQS8io</td>\n",
       "      <td>5 Small Changes to Supercharge Your Focus</td>\n",
       "      <td>bad thumbnail tbh</td>\n",
       "      <td>4</td>\n",
       "      <td>negative</td>\n",
       "    </tr>\n",
       "  </tbody>\n",
       "</table>\n",
       "<p>16608 rows × 5 columns</p>\n",
       "</div>"
      ],
      "text/plain": [
       "          video_id                                           title  \\\n",
       "0      T6hmdrsLQj8  How to Build Your Ultimate Productivity System   \n",
       "1      T6hmdrsLQj8  How to Build Your Ultimate Productivity System   \n",
       "2      T6hmdrsLQj8  How to Build Your Ultimate Productivity System   \n",
       "3      T6hmdrsLQj8  How to Build Your Ultimate Productivity System   \n",
       "4      T6hmdrsLQj8  How to Build Your Ultimate Productivity System   \n",
       "...            ...                                             ...   \n",
       "16605  3bamBYQS8io       5 Small Changes to Supercharge Your Focus   \n",
       "16606  3bamBYQS8io       5 Small Changes to Supercharge Your Focus   \n",
       "16607  3bamBYQS8io       5 Small Changes to Supercharge Your Focus   \n",
       "16608  3bamBYQS8io       5 Small Changes to Supercharge Your Focus   \n",
       "16609  3bamBYQS8io       5 Small Changes to Supercharge Your Focus   \n",
       "\n",
       "                                          split_comments  num_tokens sentiment  \n",
       "0                       how to remember the system then?           7   neutral  \n",
       "1                                           15/3/24, x2.           9   neutral  \n",
       "2      thanks brother it's helping video :red_heart::...          16  positive  \n",
       "3      you should try breathing and just being in the...          28   neutral  \n",
       "4      took me out when he said “my brain is a dumass...          52  negative  \n",
       "...                                                  ...         ...       ...  \n",
       "16605                     please also upload hindi video           6   neutral  \n",
       "16606                                             im 3rd           3   neutral  \n",
       "16607  what if he pinned my cmt?:grinning_face_with_s...          18   neutral  \n",
       "16608                                   first to comment           3   neutral  \n",
       "16609                                  bad thumbnail tbh           4  negative  \n",
       "\n",
       "[16608 rows x 5 columns]"
      ]
     },
     "execution_count": 47,
     "metadata": {},
     "output_type": "execute_result"
    }
   ],
   "source": [
    "data1"
   ]
  },
  {
   "cell_type": "code",
   "execution_count": null,
   "id": "63973c08",
   "metadata": {},
   "outputs": [],
   "source": []
  },
  {
   "cell_type": "code",
   "execution_count": null,
   "id": "6d4d0e76",
   "metadata": {},
   "outputs": [],
   "source": []
  },
  {
   "cell_type": "code",
   "execution_count": null,
   "id": "bb85d587",
   "metadata": {},
   "outputs": [],
   "source": []
  },
  {
   "cell_type": "markdown",
   "id": "ac5149e6",
   "metadata": {},
   "source": [
    "# Join df's "
   ]
  },
  {
   "cell_type": "code",
   "execution_count": 27,
   "id": "a1b2a599",
   "metadata": {},
   "outputs": [
    {
     "data": {
      "text/plain": [
       "True"
      ]
     },
     "execution_count": 27,
     "metadata": {},
     "output_type": "execute_result"
    }
   ],
   "source": [
    "len(data1) == len(data2) "
   ]
  },
  {
   "cell_type": "code",
   "execution_count": 28,
   "id": "7bd292cd",
   "metadata": {},
   "outputs": [
    {
     "data": {
      "text/plain": [
       "Index(['video_id', 'title', 'split_comments', 'num_tokens', 'sentiment'], dtype='object')"
      ]
     },
     "execution_count": 28,
     "metadata": {},
     "output_type": "execute_result"
    }
   ],
   "source": [
    "data1.columns"
   ]
  },
  {
   "cell_type": "code",
   "execution_count": 29,
   "id": "5d6b4ab2",
   "metadata": {},
   "outputs": [
    {
     "data": {
      "text/plain": [
       "Index(['split_comments', 'labels', 'scores'], dtype='object')"
      ]
     },
     "execution_count": 29,
     "metadata": {},
     "output_type": "execute_result"
    }
   ],
   "source": [
    "data2.columns"
   ]
  },
  {
   "cell_type": "code",
   "execution_count": 31,
   "id": "c31c1dd8",
   "metadata": {},
   "outputs": [
    {
     "ename": "TypeError",
     "evalue": "merge() missing 2 required positional arguments: 'left' and 'right'",
     "output_type": "error",
     "traceback": [
      "\u001b[0;31m---------------------------------------------------------------------------\u001b[0m",
      "\u001b[0;31mTypeError\u001b[0m                                 Traceback (most recent call last)",
      "Cell \u001b[0;32mIn[31], line 1\u001b[0m\n\u001b[0;32m----> 1\u001b[0m df \u001b[38;5;241m=\u001b[39m \u001b[43mpd\u001b[49m\u001b[38;5;241;43m.\u001b[39;49m\u001b[43mmerge\u001b[49m\u001b[43m(\u001b[49m\u001b[43mon\u001b[49m\u001b[38;5;241;43m=\u001b[39;49m\u001b[38;5;124;43m\"\u001b[39;49m\u001b[38;5;124;43msplit_comments\u001b[39;49m\u001b[38;5;124;43m\"\u001b[39;49m\u001b[43m)\u001b[49m\n\u001b[1;32m      2\u001b[0m df\n",
      "\u001b[0;31mTypeError\u001b[0m: merge() missing 2 required positional arguments: 'left' and 'right'"
     ]
    }
   ],
   "source": [
    "df = pd.merge(on=\"split_comments\")\n",
    "df"
   ]
  },
  {
   "cell_type": "code",
   "execution_count": 34,
   "id": "63bc9446",
   "metadata": {},
   "outputs": [
    {
     "data": {
      "text/plain": [
       "(16608, 5)"
      ]
     },
     "execution_count": 34,
     "metadata": {},
     "output_type": "execute_result"
    }
   ],
   "source": [
    "data1.merge(data2,left_on=\"split_comments\",right_on=\"split_comments\")"
   ]
  },
  {
   "cell_type": "code",
   "execution_count": 39,
   "id": "7ab72c33",
   "metadata": {},
   "outputs": [],
   "source": [
    "df = pd.merge(data1, data2, on='split_comments', how='inner')"
   ]
  },
  {
   "cell_type": "code",
   "execution_count": 40,
   "id": "10e365fb",
   "metadata": {},
   "outputs": [
    {
     "data": {
      "text/html": [
       "<div>\n",
       "<style scoped>\n",
       "    .dataframe tbody tr th:only-of-type {\n",
       "        vertical-align: middle;\n",
       "    }\n",
       "\n",
       "    .dataframe tbody tr th {\n",
       "        vertical-align: top;\n",
       "    }\n",
       "\n",
       "    .dataframe thead th {\n",
       "        text-align: right;\n",
       "    }\n",
       "</style>\n",
       "<table border=\"1\" class=\"dataframe\">\n",
       "  <thead>\n",
       "    <tr style=\"text-align: right;\">\n",
       "      <th></th>\n",
       "      <th>video_id</th>\n",
       "      <th>title</th>\n",
       "      <th>split_comments</th>\n",
       "      <th>num_tokens</th>\n",
       "      <th>sentiment</th>\n",
       "      <th>labels</th>\n",
       "      <th>scores</th>\n",
       "    </tr>\n",
       "  </thead>\n",
       "  <tbody>\n",
       "    <tr>\n",
       "      <th>0</th>\n",
       "      <td>T6hmdrsLQj8</td>\n",
       "      <td>How to Build Your Ultimate Productivity System</td>\n",
       "      <td>how to remember the system then?</td>\n",
       "      <td>7</td>\n",
       "      <td>neutral</td>\n",
       "      <td>['aspirations', 'frustrations', 'fears']</td>\n",
       "      <td>[0.45186224579811096, 0.34655919671058655, 0.2...</td>\n",
       "    </tr>\n",
       "    <tr>\n",
       "      <th>1</th>\n",
       "      <td>T6hmdrsLQj8</td>\n",
       "      <td>How to Build Your Ultimate Productivity System</td>\n",
       "      <td>15/3/24, x2.</td>\n",
       "      <td>9</td>\n",
       "      <td>neutral</td>\n",
       "      <td>['aspirations', 'fears', 'frustrations']</td>\n",
       "      <td>[0.36963728070259094, 0.3612099289894104, 0.26...</td>\n",
       "    </tr>\n",
       "    <tr>\n",
       "      <th>2</th>\n",
       "      <td>T6hmdrsLQj8</td>\n",
       "      <td>How to Build Your Ultimate Productivity System</td>\n",
       "      <td>thanks brother it's helping video :red_heart::...</td>\n",
       "      <td>16</td>\n",
       "      <td>positive</td>\n",
       "      <td>['aspirations', 'frustrations', 'fears']</td>\n",
       "      <td>[0.6822587251663208, 0.17578278481960297, 0.14...</td>\n",
       "    </tr>\n",
       "    <tr>\n",
       "      <th>3</th>\n",
       "      <td>T6hmdrsLQj8</td>\n",
       "      <td>How to Build Your Ultimate Productivity System</td>\n",
       "      <td>you should try breathing and just being in the...</td>\n",
       "      <td>28</td>\n",
       "      <td>neutral</td>\n",
       "      <td>['frustrations', 'aspirations', 'fears']</td>\n",
       "      <td>[0.4940927028656006, 0.31500494480133057, 0.19...</td>\n",
       "    </tr>\n",
       "    <tr>\n",
       "      <th>4</th>\n",
       "      <td>T6hmdrsLQj8</td>\n",
       "      <td>How to Build Your Ultimate Productivity System</td>\n",
       "      <td>took me out when he said “my brain is a dumass...</td>\n",
       "      <td>52</td>\n",
       "      <td>negative</td>\n",
       "      <td>['frustrations', 'fears', 'aspirations']</td>\n",
       "      <td>[0.8241838812828064, 0.0920601338148117, 0.083...</td>\n",
       "    </tr>\n",
       "    <tr>\n",
       "      <th>...</th>\n",
       "      <td>...</td>\n",
       "      <td>...</td>\n",
       "      <td>...</td>\n",
       "      <td>...</td>\n",
       "      <td>...</td>\n",
       "      <td>...</td>\n",
       "      <td>...</td>\n",
       "    </tr>\n",
       "    <tr>\n",
       "      <th>887177</th>\n",
       "      <td>3bamBYQS8io</td>\n",
       "      <td>5 Small Changes to Supercharge Your Focus</td>\n",
       "      <td>please also upload hindi video</td>\n",
       "      <td>6</td>\n",
       "      <td>neutral</td>\n",
       "      <td>['fears', 'aspirations', 'frustrations']</td>\n",
       "      <td>[0.3803737759590149, 0.32163533568382263, 0.29...</td>\n",
       "    </tr>\n",
       "    <tr>\n",
       "      <th>887178</th>\n",
       "      <td>3bamBYQS8io</td>\n",
       "      <td>5 Small Changes to Supercharge Your Focus</td>\n",
       "      <td>im 3rd</td>\n",
       "      <td>3</td>\n",
       "      <td>neutral</td>\n",
       "      <td>['aspirations', 'frustrations', 'fears']</td>\n",
       "      <td>[0.6356985569000244, 0.18799357116222382, 0.17...</td>\n",
       "    </tr>\n",
       "    <tr>\n",
       "      <th>887179</th>\n",
       "      <td>3bamBYQS8io</td>\n",
       "      <td>5 Small Changes to Supercharge Your Focus</td>\n",
       "      <td>what if he pinned my cmt?:grinning_face_with_s...</td>\n",
       "      <td>18</td>\n",
       "      <td>neutral</td>\n",
       "      <td>['fears', 'frustrations', 'aspirations']</td>\n",
       "      <td>[0.5885409116744995, 0.3420863449573517, 0.069...</td>\n",
       "    </tr>\n",
       "    <tr>\n",
       "      <th>887180</th>\n",
       "      <td>3bamBYQS8io</td>\n",
       "      <td>5 Small Changes to Supercharge Your Focus</td>\n",
       "      <td>first to comment</td>\n",
       "      <td>3</td>\n",
       "      <td>neutral</td>\n",
       "      <td>['aspirations', 'fears', 'frustrations']</td>\n",
       "      <td>[0.4376871585845947, 0.28964871168136597, 0.27...</td>\n",
       "    </tr>\n",
       "    <tr>\n",
       "      <th>887181</th>\n",
       "      <td>3bamBYQS8io</td>\n",
       "      <td>5 Small Changes to Supercharge Your Focus</td>\n",
       "      <td>bad thumbnail tbh</td>\n",
       "      <td>4</td>\n",
       "      <td>negative</td>\n",
       "      <td>['frustrations', 'fears', 'aspirations']</td>\n",
       "      <td>[0.6011629104614258, 0.3157581388950348, 0.083...</td>\n",
       "    </tr>\n",
       "  </tbody>\n",
       "</table>\n",
       "<p>887182 rows × 7 columns</p>\n",
       "</div>"
      ],
      "text/plain": [
       "           video_id                                           title  \\\n",
       "0       T6hmdrsLQj8  How to Build Your Ultimate Productivity System   \n",
       "1       T6hmdrsLQj8  How to Build Your Ultimate Productivity System   \n",
       "2       T6hmdrsLQj8  How to Build Your Ultimate Productivity System   \n",
       "3       T6hmdrsLQj8  How to Build Your Ultimate Productivity System   \n",
       "4       T6hmdrsLQj8  How to Build Your Ultimate Productivity System   \n",
       "...             ...                                             ...   \n",
       "887177  3bamBYQS8io       5 Small Changes to Supercharge Your Focus   \n",
       "887178  3bamBYQS8io       5 Small Changes to Supercharge Your Focus   \n",
       "887179  3bamBYQS8io       5 Small Changes to Supercharge Your Focus   \n",
       "887180  3bamBYQS8io       5 Small Changes to Supercharge Your Focus   \n",
       "887181  3bamBYQS8io       5 Small Changes to Supercharge Your Focus   \n",
       "\n",
       "                                           split_comments  num_tokens  \\\n",
       "0                        how to remember the system then?           7   \n",
       "1                                            15/3/24, x2.           9   \n",
       "2       thanks brother it's helping video :red_heart::...          16   \n",
       "3       you should try breathing and just being in the...          28   \n",
       "4       took me out when he said “my brain is a dumass...          52   \n",
       "...                                                   ...         ...   \n",
       "887177                     please also upload hindi video           6   \n",
       "887178                                             im 3rd           3   \n",
       "887179  what if he pinned my cmt?:grinning_face_with_s...          18   \n",
       "887180                                   first to comment           3   \n",
       "887181                                  bad thumbnail tbh           4   \n",
       "\n",
       "       sentiment                                    labels  \\\n",
       "0        neutral  ['aspirations', 'frustrations', 'fears']   \n",
       "1        neutral  ['aspirations', 'fears', 'frustrations']   \n",
       "2       positive  ['aspirations', 'frustrations', 'fears']   \n",
       "3        neutral  ['frustrations', 'aspirations', 'fears']   \n",
       "4       negative  ['frustrations', 'fears', 'aspirations']   \n",
       "...          ...                                       ...   \n",
       "887177   neutral  ['fears', 'aspirations', 'frustrations']   \n",
       "887178   neutral  ['aspirations', 'frustrations', 'fears']   \n",
       "887179   neutral  ['fears', 'frustrations', 'aspirations']   \n",
       "887180   neutral  ['aspirations', 'fears', 'frustrations']   \n",
       "887181  negative  ['frustrations', 'fears', 'aspirations']   \n",
       "\n",
       "                                                   scores  \n",
       "0       [0.45186224579811096, 0.34655919671058655, 0.2...  \n",
       "1       [0.36963728070259094, 0.3612099289894104, 0.26...  \n",
       "2       [0.6822587251663208, 0.17578278481960297, 0.14...  \n",
       "3       [0.4940927028656006, 0.31500494480133057, 0.19...  \n",
       "4       [0.8241838812828064, 0.0920601338148117, 0.083...  \n",
       "...                                                   ...  \n",
       "887177  [0.3803737759590149, 0.32163533568382263, 0.29...  \n",
       "887178  [0.6356985569000244, 0.18799357116222382, 0.17...  \n",
       "887179  [0.5885409116744995, 0.3420863449573517, 0.069...  \n",
       "887180  [0.4376871585845947, 0.28964871168136597, 0.27...  \n",
       "887181  [0.6011629104614258, 0.3157581388950348, 0.083...  \n",
       "\n",
       "[887182 rows x 7 columns]"
      ]
     },
     "execution_count": 40,
     "metadata": {},
     "output_type": "execute_result"
    }
   ],
   "source": [
    "df"
   ]
  },
  {
   "cell_type": "code",
   "execution_count": 41,
   "id": "710c8b2c",
   "metadata": {},
   "outputs": [
    {
     "data": {
      "text/plain": [
       "16608"
      ]
     },
     "execution_count": 41,
     "metadata": {},
     "output_type": "execute_result"
    }
   ],
   "source": [
    "len(data1)\n"
   ]
  },
  {
   "cell_type": "code",
   "execution_count": 42,
   "id": "d34d8640",
   "metadata": {},
   "outputs": [
    {
     "data": {
      "text/plain": [
       "16608"
      ]
     },
     "execution_count": 42,
     "metadata": {},
     "output_type": "execute_result"
    }
   ],
   "source": [
    "len(data2)"
   ]
  },
  {
   "cell_type": "code",
   "execution_count": 43,
   "id": "e1091945",
   "metadata": {},
   "outputs": [
    {
     "data": {
      "text/html": [
       "<div>\n",
       "<style scoped>\n",
       "    .dataframe tbody tr th:only-of-type {\n",
       "        vertical-align: middle;\n",
       "    }\n",
       "\n",
       "    .dataframe tbody tr th {\n",
       "        vertical-align: top;\n",
       "    }\n",
       "\n",
       "    .dataframe thead th {\n",
       "        text-align: right;\n",
       "    }\n",
       "</style>\n",
       "<table border=\"1\" class=\"dataframe\">\n",
       "  <thead>\n",
       "    <tr style=\"text-align: right;\">\n",
       "      <th></th>\n",
       "      <th>video_id</th>\n",
       "      <th>title</th>\n",
       "      <th>split_comments</th>\n",
       "      <th>num_tokens</th>\n",
       "      <th>sentiment</th>\n",
       "    </tr>\n",
       "  </thead>\n",
       "  <tbody>\n",
       "    <tr>\n",
       "      <th>0</th>\n",
       "      <td>T6hmdrsLQj8</td>\n",
       "      <td>How to Build Your Ultimate Productivity System</td>\n",
       "      <td>how to remember the system then?</td>\n",
       "      <td>7</td>\n",
       "      <td>neutral</td>\n",
       "    </tr>\n",
       "    <tr>\n",
       "      <th>1</th>\n",
       "      <td>T6hmdrsLQj8</td>\n",
       "      <td>How to Build Your Ultimate Productivity System</td>\n",
       "      <td>15/3/24, x2.</td>\n",
       "      <td>9</td>\n",
       "      <td>neutral</td>\n",
       "    </tr>\n",
       "  </tbody>\n",
       "</table>\n",
       "</div>"
      ],
      "text/plain": [
       "      video_id                                           title  \\\n",
       "0  T6hmdrsLQj8  How to Build Your Ultimate Productivity System   \n",
       "1  T6hmdrsLQj8  How to Build Your Ultimate Productivity System   \n",
       "\n",
       "                     split_comments  num_tokens sentiment  \n",
       "0  how to remember the system then?           7   neutral  \n",
       "1                      15/3/24, x2.           9   neutral  "
      ]
     },
     "execution_count": 43,
     "metadata": {},
     "output_type": "execute_result"
    }
   ],
   "source": [
    "data1.head(2)"
   ]
  },
  {
   "cell_type": "code",
   "execution_count": 44,
   "id": "55f9c581",
   "metadata": {},
   "outputs": [
    {
     "data": {
      "text/html": [
       "<div>\n",
       "<style scoped>\n",
       "    .dataframe tbody tr th:only-of-type {\n",
       "        vertical-align: middle;\n",
       "    }\n",
       "\n",
       "    .dataframe tbody tr th {\n",
       "        vertical-align: top;\n",
       "    }\n",
       "\n",
       "    .dataframe thead th {\n",
       "        text-align: right;\n",
       "    }\n",
       "</style>\n",
       "<table border=\"1\" class=\"dataframe\">\n",
       "  <thead>\n",
       "    <tr style=\"text-align: right;\">\n",
       "      <th></th>\n",
       "      <th>split_comments</th>\n",
       "      <th>labels</th>\n",
       "      <th>scores</th>\n",
       "    </tr>\n",
       "  </thead>\n",
       "  <tbody>\n",
       "    <tr>\n",
       "      <th>0</th>\n",
       "      <td>how to remember the system then?</td>\n",
       "      <td>['aspirations', 'frustrations', 'fears']</td>\n",
       "      <td>[0.45186224579811096, 0.34655919671058655, 0.2...</td>\n",
       "    </tr>\n",
       "    <tr>\n",
       "      <th>1</th>\n",
       "      <td>15/3/24, x2.</td>\n",
       "      <td>['aspirations', 'fears', 'frustrations']</td>\n",
       "      <td>[0.36963728070259094, 0.3612099289894104, 0.26...</td>\n",
       "    </tr>\n",
       "  </tbody>\n",
       "</table>\n",
       "</div>"
      ],
      "text/plain": [
       "                     split_comments                                    labels  \\\n",
       "0  how to remember the system then?  ['aspirations', 'frustrations', 'fears']   \n",
       "1                      15/3/24, x2.  ['aspirations', 'fears', 'frustrations']   \n",
       "\n",
       "                                              scores  \n",
       "0  [0.45186224579811096, 0.34655919671058655, 0.2...  \n",
       "1  [0.36963728070259094, 0.3612099289894104, 0.26...  "
      ]
     },
     "execution_count": 44,
     "metadata": {},
     "output_type": "execute_result"
    }
   ],
   "source": [
    "data2.head(2)"
   ]
  },
  {
   "cell_type": "code",
   "execution_count": 45,
   "id": "914c500e",
   "metadata": {},
   "outputs": [
    {
     "data": {
      "text/html": [
       "<div>\n",
       "<style scoped>\n",
       "    .dataframe tbody tr th:only-of-type {\n",
       "        vertical-align: middle;\n",
       "    }\n",
       "\n",
       "    .dataframe tbody tr th {\n",
       "        vertical-align: top;\n",
       "    }\n",
       "\n",
       "    .dataframe thead th {\n",
       "        text-align: right;\n",
       "    }\n",
       "</style>\n",
       "<table border=\"1\" class=\"dataframe\">\n",
       "  <thead>\n",
       "    <tr style=\"text-align: right;\">\n",
       "      <th></th>\n",
       "      <th>video_id</th>\n",
       "      <th>title</th>\n",
       "      <th>split_comments</th>\n",
       "      <th>num_tokens</th>\n",
       "      <th>sentiment</th>\n",
       "    </tr>\n",
       "  </thead>\n",
       "  <tbody>\n",
       "    <tr>\n",
       "      <th>884</th>\n",
       "      <td>T6hmdrsLQj8</td>\n",
       "      <td>How to Build Your Ultimate Productivity System</td>\n",
       "      <td>thank you</td>\n",
       "      <td>2</td>\n",
       "      <td>positive</td>\n",
       "    </tr>\n",
       "    <tr>\n",
       "      <th>1004</th>\n",
       "      <td>FbSNfj2S6Pw</td>\n",
       "      <td>5 Essential Tips for Long-Lasting Productivity</td>\n",
       "      <td>i don't necessarily think it should be find yo...</td>\n",
       "      <td>33</td>\n",
       "      <td>neutral</td>\n",
       "    </tr>\n",
       "    <tr>\n",
       "      <th>1075</th>\n",
       "      <td>FbSNfj2S6Pw</td>\n",
       "      <td>5 Essential Tips for Long-Lasting Productivity</td>\n",
       "      <td>thank you</td>\n",
       "      <td>2</td>\n",
       "      <td>positive</td>\n",
       "    </tr>\n",
       "    <tr>\n",
       "      <th>1513</th>\n",
       "      <td>FbSNfj2S6Pw</td>\n",
       "      <td>5 Essential Tips for Long-Lasting Productivity</td>\n",
       "      <td>:thumbs_up:</td>\n",
       "      <td>6</td>\n",
       "      <td>positive</td>\n",
       "    </tr>\n",
       "    <tr>\n",
       "      <th>1638</th>\n",
       "      <td>FbSNfj2S6Pw</td>\n",
       "      <td>5 Essential Tips for Long-Lasting Productivity</td>\n",
       "      <td>:)</td>\n",
       "      <td>2</td>\n",
       "      <td>positive</td>\n",
       "    </tr>\n",
       "    <tr>\n",
       "      <th>...</th>\n",
       "      <td>...</td>\n",
       "      <td>...</td>\n",
       "      <td>...</td>\n",
       "      <td>...</td>\n",
       "      <td>...</td>\n",
       "    </tr>\n",
       "    <tr>\n",
       "      <th>15706</th>\n",
       "      <td>OgBF3N3MhYw</td>\n",
       "      <td>How to Stop Wasting Your Life (Avoid These 5 T...</td>\n",
       "      <td>:red_heart:</td>\n",
       "      <td>5</td>\n",
       "      <td>neutral</td>\n",
       "    </tr>\n",
       "    <tr>\n",
       "      <th>15734</th>\n",
       "      <td>OgBF3N3MhYw</td>\n",
       "      <td>How to Stop Wasting Your Life (Avoid These 5 T...</td>\n",
       "      <td>did you find an old hard disk or something xd ...</td>\n",
       "      <td>43</td>\n",
       "      <td>positive</td>\n",
       "    </tr>\n",
       "    <tr>\n",
       "      <th>15802</th>\n",
       "      <td>OgBF3N3MhYw</td>\n",
       "      <td>How to Stop Wasting Your Life (Avoid These 5 T...</td>\n",
       "      <td>first</td>\n",
       "      <td>1</td>\n",
       "      <td>neutral</td>\n",
       "    </tr>\n",
       "    <tr>\n",
       "      <th>15972</th>\n",
       "      <td>tpB3BMlNrno</td>\n",
       "      <td>How to Manage Your Time Outside Your 9-5</td>\n",
       "      <td>:red_heart:</td>\n",
       "      <td>5</td>\n",
       "      <td>neutral</td>\n",
       "    </tr>\n",
       "    <tr>\n",
       "      <th>16297</th>\n",
       "      <td>5Rqiba5mqLk</td>\n",
       "      <td>Why You’re Always Distracted - 5 Mistakes Ruin...</td>\n",
       "      <td>wish i found you earlier, cause i have trouble...</td>\n",
       "      <td>14</td>\n",
       "      <td>negative</td>\n",
       "    </tr>\n",
       "  </tbody>\n",
       "</table>\n",
       "<p>1455 rows × 5 columns</p>\n",
       "</div>"
      ],
      "text/plain": [
       "          video_id                                              title  \\\n",
       "884    T6hmdrsLQj8     How to Build Your Ultimate Productivity System   \n",
       "1004   FbSNfj2S6Pw     5 Essential Tips for Long-Lasting Productivity   \n",
       "1075   FbSNfj2S6Pw     5 Essential Tips for Long-Lasting Productivity   \n",
       "1513   FbSNfj2S6Pw     5 Essential Tips for Long-Lasting Productivity   \n",
       "1638   FbSNfj2S6Pw     5 Essential Tips for Long-Lasting Productivity   \n",
       "...            ...                                                ...   \n",
       "15706  OgBF3N3MhYw  How to Stop Wasting Your Life (Avoid These 5 T...   \n",
       "15734  OgBF3N3MhYw  How to Stop Wasting Your Life (Avoid These 5 T...   \n",
       "15802  OgBF3N3MhYw  How to Stop Wasting Your Life (Avoid These 5 T...   \n",
       "15972  tpB3BMlNrno           How to Manage Your Time Outside Your 9-5   \n",
       "16297  5Rqiba5mqLk  Why You’re Always Distracted - 5 Mistakes Ruin...   \n",
       "\n",
       "                                          split_comments  num_tokens sentiment  \n",
       "884                                            thank you           2  positive  \n",
       "1004   i don't necessarily think it should be find yo...          33   neutral  \n",
       "1075                                           thank you           2  positive  \n",
       "1513                                         :thumbs_up:           6  positive  \n",
       "1638                                                  :)           2  positive  \n",
       "...                                                  ...         ...       ...  \n",
       "15706                                        :red_heart:           5   neutral  \n",
       "15734  did you find an old hard disk or something xd ...          43  positive  \n",
       "15802                                              first           1   neutral  \n",
       "15972                                        :red_heart:           5   neutral  \n",
       "16297  wish i found you earlier, cause i have trouble...          14  negative  \n",
       "\n",
       "[1455 rows x 5 columns]"
      ]
     },
     "execution_count": 45,
     "metadata": {},
     "output_type": "execute_result"
    }
   ],
   "source": []
  },
  {
   "cell_type": "code",
   "execution_count": 58,
   "id": "b594b9ad",
   "metadata": {},
   "outputs": [
    {
     "data": {
      "text/plain": [
       "14926"
      ]
     },
     "execution_count": 58,
     "metadata": {},
     "output_type": "execute_result"
    }
   ],
   "source": [
    "data1_unique = data1.drop_duplicates(subset=['split_comments'])\n",
    "len(data1_unique)"
   ]
  },
  {
   "cell_type": "code",
   "execution_count": 59,
   "id": "6ea0cc6a",
   "metadata": {},
   "outputs": [
    {
     "data": {
      "text/plain": [
       "14926"
      ]
     },
     "execution_count": 59,
     "metadata": {},
     "output_type": "execute_result"
    }
   ],
   "source": [
    "data2_unique = data2.drop_duplicates(subset=['split_comments'])\n",
    "len(data2_unique)"
   ]
  },
  {
   "cell_type": "code",
   "execution_count": 68,
   "id": "04836dd4",
   "metadata": {},
   "outputs": [],
   "source": [
    "data = data1.merge(data2, how='inner', on='split_comments')"
   ]
  },
  {
   "cell_type": "code",
   "execution_count": 69,
   "id": "88d39685",
   "metadata": {},
   "outputs": [],
   "source": [
    "df = data.drop_duplicates(subset=['split_comments'])"
   ]
  },
  {
   "cell_type": "code",
   "execution_count": 95,
   "id": "f5fe1336",
   "metadata": {},
   "outputs": [
    {
     "name": "stderr",
     "output_type": "stream",
     "text": [
      "/var/folders/dl/xk3h69fs1n98s7d_7v_3q5pc0000gn/T/ipykernel_1886/2945439550.py:1: SettingWithCopyWarning: \n",
      "A value is trying to be set on a copy of a slice from a DataFrame.\n",
      "Try using .loc[row_indexer,col_indexer] = value instead\n",
      "\n",
      "See the caveats in the documentation: https://pandas.pydata.org/pandas-docs/stable/user_guide/indexing.html#returning-a-view-versus-a-copy\n",
      "  df['scores'] = df['scores'].astype(str).str.strip('[]').str.split(',')\n"
     ]
    }
   ],
   "source": [
    "df['scores'] = df['scores'].astype(str).str.strip('[]').str.split(',')"
   ]
  },
  {
   "cell_type": "code",
   "execution_count": 96,
   "id": "93b74e95",
   "metadata": {},
   "outputs": [
    {
     "name": "stderr",
     "output_type": "stream",
     "text": [
      "/var/folders/dl/xk3h69fs1n98s7d_7v_3q5pc0000gn/T/ipykernel_1886/179147062.py:1: SettingWithCopyWarning: \n",
      "A value is trying to be set on a copy of a slice from a DataFrame.\n",
      "Try using .loc[row_indexer,col_indexer] = value instead\n",
      "\n",
      "See the caveats in the documentation: https://pandas.pydata.org/pandas-docs/stable/user_guide/indexing.html#returning-a-view-versus-a-copy\n",
      "  df['scores'] = df['scores'].apply(lambda x: [float(i) for i in x])\n"
     ]
    }
   ],
   "source": [
    "df['scores'] = df['scores'].apply(lambda x: [float(i) for i in x])"
   ]
  },
  {
   "cell_type": "code",
   "execution_count": 99,
   "id": "69673277",
   "metadata": {},
   "outputs": [
    {
     "data": {
      "text/plain": [
       "float"
      ]
     },
     "execution_count": 99,
     "metadata": {},
     "output_type": "execute_result"
    }
   ],
   "source": [
    "type(df['scores'][0][0])"
   ]
  },
  {
   "cell_type": "code",
   "execution_count": 102,
   "id": "ef8b2608",
   "metadata": {},
   "outputs": [
    {
     "data": {
      "text/plain": [
       "list"
      ]
     },
     "execution_count": 102,
     "metadata": {},
     "output_type": "execute_result"
    }
   ],
   "source": [
    "type(df['scores'][0])"
   ]
  },
  {
   "cell_type": "code",
   "execution_count": 104,
   "id": "3ab9bc21",
   "metadata": {},
   "outputs": [
    {
     "data": {
      "text/html": [
       "<div>\n",
       "<style scoped>\n",
       "    .dataframe tbody tr th:only-of-type {\n",
       "        vertical-align: middle;\n",
       "    }\n",
       "\n",
       "    .dataframe tbody tr th {\n",
       "        vertical-align: top;\n",
       "    }\n",
       "\n",
       "    .dataframe thead th {\n",
       "        text-align: right;\n",
       "    }\n",
       "</style>\n",
       "<table border=\"1\" class=\"dataframe\">\n",
       "  <thead>\n",
       "    <tr style=\"text-align: right;\">\n",
       "      <th></th>\n",
       "      <th>video_id</th>\n",
       "      <th>title</th>\n",
       "      <th>split_comments</th>\n",
       "      <th>num_tokens</th>\n",
       "      <th>sentiment</th>\n",
       "      <th>labels</th>\n",
       "      <th>scores</th>\n",
       "    </tr>\n",
       "  </thead>\n",
       "  <tbody>\n",
       "    <tr>\n",
       "      <th>0</th>\n",
       "      <td>T6hmdrsLQj8</td>\n",
       "      <td>How to Build Your Ultimate Productivity System</td>\n",
       "      <td>how to remember the system then?</td>\n",
       "      <td>7</td>\n",
       "      <td>neutral</td>\n",
       "      <td>['aspirations', 'frustrations', 'fears']</td>\n",
       "      <td>[0.45186224579811096, 0.34655919671058655, 0.2...</td>\n",
       "    </tr>\n",
       "    <tr>\n",
       "      <th>1</th>\n",
       "      <td>T6hmdrsLQj8</td>\n",
       "      <td>How to Build Your Ultimate Productivity System</td>\n",
       "      <td>15/3/24, x2.</td>\n",
       "      <td>9</td>\n",
       "      <td>neutral</td>\n",
       "      <td>['aspirations', 'fears', 'frustrations']</td>\n",
       "      <td>[0.36963728070259094, 0.3612099289894104, 0.26...</td>\n",
       "    </tr>\n",
       "    <tr>\n",
       "      <th>2</th>\n",
       "      <td>T6hmdrsLQj8</td>\n",
       "      <td>How to Build Your Ultimate Productivity System</td>\n",
       "      <td>thanks brother it's helping video :red_heart::...</td>\n",
       "      <td>16</td>\n",
       "      <td>positive</td>\n",
       "      <td>['aspirations', 'frustrations', 'fears']</td>\n",
       "      <td>[0.6822587251663208, 0.17578278481960297, 0.14...</td>\n",
       "    </tr>\n",
       "    <tr>\n",
       "      <th>3</th>\n",
       "      <td>T6hmdrsLQj8</td>\n",
       "      <td>How to Build Your Ultimate Productivity System</td>\n",
       "      <td>you should try breathing and just being in the...</td>\n",
       "      <td>28</td>\n",
       "      <td>neutral</td>\n",
       "      <td>['frustrations', 'aspirations', 'fears']</td>\n",
       "      <td>[0.4940927028656006, 0.31500494480133057, 0.19...</td>\n",
       "    </tr>\n",
       "    <tr>\n",
       "      <th>4</th>\n",
       "      <td>T6hmdrsLQj8</td>\n",
       "      <td>How to Build Your Ultimate Productivity System</td>\n",
       "      <td>took me out when he said “my brain is a dumass...</td>\n",
       "      <td>52</td>\n",
       "      <td>negative</td>\n",
       "      <td>['frustrations', 'fears', 'aspirations']</td>\n",
       "      <td>[0.8241838812828064, 0.0920601338148117, 0.083...</td>\n",
       "    </tr>\n",
       "    <tr>\n",
       "      <th>...</th>\n",
       "      <td>...</td>\n",
       "      <td>...</td>\n",
       "      <td>...</td>\n",
       "      <td>...</td>\n",
       "      <td>...</td>\n",
       "      <td>...</td>\n",
       "      <td>...</td>\n",
       "    </tr>\n",
       "    <tr>\n",
       "      <th>887177</th>\n",
       "      <td>3bamBYQS8io</td>\n",
       "      <td>5 Small Changes to Supercharge Your Focus</td>\n",
       "      <td>please also upload hindi video</td>\n",
       "      <td>6</td>\n",
       "      <td>neutral</td>\n",
       "      <td>['fears', 'aspirations', 'frustrations']</td>\n",
       "      <td>[0.3803737759590149, 0.32163533568382263, 0.29...</td>\n",
       "    </tr>\n",
       "    <tr>\n",
       "      <th>887178</th>\n",
       "      <td>3bamBYQS8io</td>\n",
       "      <td>5 Small Changes to Supercharge Your Focus</td>\n",
       "      <td>im 3rd</td>\n",
       "      <td>3</td>\n",
       "      <td>neutral</td>\n",
       "      <td>['aspirations', 'frustrations', 'fears']</td>\n",
       "      <td>[0.6356985569000244, 0.18799357116222382, 0.17...</td>\n",
       "    </tr>\n",
       "    <tr>\n",
       "      <th>887179</th>\n",
       "      <td>3bamBYQS8io</td>\n",
       "      <td>5 Small Changes to Supercharge Your Focus</td>\n",
       "      <td>what if he pinned my cmt?:grinning_face_with_s...</td>\n",
       "      <td>18</td>\n",
       "      <td>neutral</td>\n",
       "      <td>['fears', 'frustrations', 'aspirations']</td>\n",
       "      <td>[0.5885409116744995, 0.3420863449573517, 0.069...</td>\n",
       "    </tr>\n",
       "    <tr>\n",
       "      <th>887180</th>\n",
       "      <td>3bamBYQS8io</td>\n",
       "      <td>5 Small Changes to Supercharge Your Focus</td>\n",
       "      <td>first to comment</td>\n",
       "      <td>3</td>\n",
       "      <td>neutral</td>\n",
       "      <td>['aspirations', 'fears', 'frustrations']</td>\n",
       "      <td>[0.4376871585845947, 0.28964871168136597, 0.27...</td>\n",
       "    </tr>\n",
       "    <tr>\n",
       "      <th>887181</th>\n",
       "      <td>3bamBYQS8io</td>\n",
       "      <td>5 Small Changes to Supercharge Your Focus</td>\n",
       "      <td>bad thumbnail tbh</td>\n",
       "      <td>4</td>\n",
       "      <td>negative</td>\n",
       "      <td>['frustrations', 'fears', 'aspirations']</td>\n",
       "      <td>[0.6011629104614258, 0.3157581388950348, 0.083...</td>\n",
       "    </tr>\n",
       "  </tbody>\n",
       "</table>\n",
       "<p>14926 rows × 7 columns</p>\n",
       "</div>"
      ],
      "text/plain": [
       "           video_id                                           title  \\\n",
       "0       T6hmdrsLQj8  How to Build Your Ultimate Productivity System   \n",
       "1       T6hmdrsLQj8  How to Build Your Ultimate Productivity System   \n",
       "2       T6hmdrsLQj8  How to Build Your Ultimate Productivity System   \n",
       "3       T6hmdrsLQj8  How to Build Your Ultimate Productivity System   \n",
       "4       T6hmdrsLQj8  How to Build Your Ultimate Productivity System   \n",
       "...             ...                                             ...   \n",
       "887177  3bamBYQS8io       5 Small Changes to Supercharge Your Focus   \n",
       "887178  3bamBYQS8io       5 Small Changes to Supercharge Your Focus   \n",
       "887179  3bamBYQS8io       5 Small Changes to Supercharge Your Focus   \n",
       "887180  3bamBYQS8io       5 Small Changes to Supercharge Your Focus   \n",
       "887181  3bamBYQS8io       5 Small Changes to Supercharge Your Focus   \n",
       "\n",
       "                                           split_comments  num_tokens  \\\n",
       "0                        how to remember the system then?           7   \n",
       "1                                            15/3/24, x2.           9   \n",
       "2       thanks brother it's helping video :red_heart::...          16   \n",
       "3       you should try breathing and just being in the...          28   \n",
       "4       took me out when he said “my brain is a dumass...          52   \n",
       "...                                                   ...         ...   \n",
       "887177                     please also upload hindi video           6   \n",
       "887178                                             im 3rd           3   \n",
       "887179  what if he pinned my cmt?:grinning_face_with_s...          18   \n",
       "887180                                   first to comment           3   \n",
       "887181                                  bad thumbnail tbh           4   \n",
       "\n",
       "       sentiment                                    labels  \\\n",
       "0        neutral  ['aspirations', 'frustrations', 'fears']   \n",
       "1        neutral  ['aspirations', 'fears', 'frustrations']   \n",
       "2       positive  ['aspirations', 'frustrations', 'fears']   \n",
       "3        neutral  ['frustrations', 'aspirations', 'fears']   \n",
       "4       negative  ['frustrations', 'fears', 'aspirations']   \n",
       "...          ...                                       ...   \n",
       "887177   neutral  ['fears', 'aspirations', 'frustrations']   \n",
       "887178   neutral  ['aspirations', 'frustrations', 'fears']   \n",
       "887179   neutral  ['fears', 'frustrations', 'aspirations']   \n",
       "887180   neutral  ['aspirations', 'fears', 'frustrations']   \n",
       "887181  negative  ['frustrations', 'fears', 'aspirations']   \n",
       "\n",
       "                                                   scores  \n",
       "0       [0.45186224579811096, 0.34655919671058655, 0.2...  \n",
       "1       [0.36963728070259094, 0.3612099289894104, 0.26...  \n",
       "2       [0.6822587251663208, 0.17578278481960297, 0.14...  \n",
       "3       [0.4940927028656006, 0.31500494480133057, 0.19...  \n",
       "4       [0.8241838812828064, 0.0920601338148117, 0.083...  \n",
       "...                                                   ...  \n",
       "887177  [0.3803737759590149, 0.32163533568382263, 0.29...  \n",
       "887178  [0.6356985569000244, 0.18799357116222382, 0.17...  \n",
       "887179  [0.5885409116744995, 0.3420863449573517, 0.069...  \n",
       "887180  [0.4376871585845947, 0.28964871168136597, 0.27...  \n",
       "887181  [0.6011629104614258, 0.3157581388950348, 0.083...  \n",
       "\n",
       "[14926 rows x 7 columns]"
      ]
     },
     "execution_count": 104,
     "metadata": {},
     "output_type": "execute_result"
    }
   ],
   "source": [
    "df"
   ]
  },
  {
   "cell_type": "code",
   "execution_count": 105,
   "id": "2426ad94",
   "metadata": {},
   "outputs": [
    {
     "name": "stderr",
     "output_type": "stream",
     "text": [
      "/var/folders/dl/xk3h69fs1n98s7d_7v_3q5pc0000gn/T/ipykernel_1886/3197620416.py:2: SettingWithCopyWarning: \n",
      "A value is trying to be set on a copy of a slice from a DataFrame.\n",
      "Try using .loc[row_indexer,col_indexer] = value instead\n",
      "\n",
      "See the caveats in the documentation: https://pandas.pydata.org/pandas-docs/stable/user_guide/indexing.html#returning-a-view-versus-a-copy\n",
      "  df['scores'] = df['scores'].astype(str).str.strip('[]').str.split(',')\n"
     ]
    }
   ],
   "source": [
    "# convert labels to list \n",
    "df['labels'] = df['labels'].astype(str).str.strip('[]').str.split(',')"
   ]
  },
  {
   "cell_type": "code",
   "execution_count": 107,
   "id": "1a92ff90",
   "metadata": {},
   "outputs": [
    {
     "data": {
      "text/plain": [
       "\"['aspirations', 'frustrations', 'fears']\""
      ]
     },
     "execution_count": 107,
     "metadata": {},
     "output_type": "execute_result"
    }
   ],
   "source": [
    "(df['labels'][0])"
   ]
  },
  {
   "cell_type": "code",
   "execution_count": null,
   "id": "7f7d47b8",
   "metadata": {},
   "outputs": [],
   "source": []
  }
 ],
 "metadata": {
  "kernelspec": {
   "display_name": "Python 3 (ipykernel)",
   "language": "python",
   "name": "python3"
  },
  "language_info": {
   "codemirror_mode": {
    "name": "ipython",
    "version": 3
   },
   "file_extension": ".py",
   "mimetype": "text/x-python",
   "name": "python",
   "nbconvert_exporter": "python",
   "pygments_lexer": "ipython3",
   "version": "3.11.8"
  }
 },
 "nbformat": 4,
 "nbformat_minor": 5
}
